{
 "cells": [
  {
   "cell_type": "code",
   "execution_count": 1,
   "id": "d357db42-893c-44f4-986a-68a0424213d1",
   "metadata": {},
   "outputs": [],
   "source": [
    "%load_ext autoreload\n",
    "%autoreload 2"
   ]
  },
  {
   "cell_type": "code",
   "execution_count": 2,
   "id": "bafc497e-04d7-4409-8dc4-859a941524d0",
   "metadata": {},
   "outputs": [],
   "source": [
    "import xgboost as xgb\n",
    "import numpy as np\n",
    "import prada\n",
    "import pandas as pd\n",
    "import veritas\n",
    "import tree_compress\n",
    "from IPython.display import display, HTML\n",
    "import matplotlib.pyplot as plt\n",
    "from matplotlib.lines import Line2D\n",
    "from matplotlib.ticker import (MultipleLocator, AutoMinorLocator)\n",
    "\n",
    "SMALL_SIZE = 8\n",
    "MEDIUM_SIZE = 10\n",
    "BIGGER_SIZE = 12\n",
    "\n",
    "plt.rc('font', size=MEDIUM_SIZE)          # controls default text sizes\n",
    "plt.rc('axes', titlesize=MEDIUM_SIZE)     # fontsize of the axes title\n",
    "plt.rc('axes', labelsize=MEDIUM_SIZE)    # fontsize of the x and y labels\n",
    "plt.rc('xtick', labelsize=MEDIUM_SIZE)    # fontsize of the tick labels\n",
    "plt.rc('ytick', labelsize=MEDIUM_SIZE)    # fontsize of the tick labels\n",
    "plt.rc('legend', fontsize=MEDIUM_SIZE)    # legend fontsize\n",
    "plt.rc('figure', titlesize=BIGGER_SIZE)  # fontsize of the figure title\n",
    "plt.rc('lines', markersize=5)\n",
    "plt.rc(\"lines\", linewidth=1.0)"
   ]
  },
  {
   "cell_type": "markdown",
   "id": "ad7028cd-ee6a-4aec-9743-7a54ec968378",
   "metadata": {},
   "source": [
    "## Train models"
   ]
  },
  {
   "cell_type": "code",
   "execution_count": 3,
   "id": "45e807ed-a4a8-43aa-ba60-e5ab6cce2f5e",
   "metadata": {},
   "outputs": [],
   "source": [
    "dnames = [\"Phoneme\", \"Banknote\", \"Spambase\", \"Credit\", \"California\", \"Mnist[2v4]\", \"Ijcnn1\"]\n",
    "param_dict = {\n",
    "    \"n_estimators\": [50, 100],\n",
    "    \"learning_rate\": [0.9, 0.5, 0.2],\n",
    "    \"subsample\": [0.5, 0.9],\n",
    "    \"max_depth\": [4, 6, 8],\n",
    "}"
   ]
  },
  {
   "cell_type": "code",
   "execution_count": 4,
   "id": "0e3c95b0-9d60-4ac7-888b-726f51040380",
   "metadata": {},
   "outputs": [
    {
     "name": "stdout",
     "output_type": "stream",
     "text": [
      "BEST Phoneme    train acc 99.2%, test acc 90.6%\n",
      "params {'n_estimators': 100, 'learning_rate': 0.2, 'subsample': 0.9, 'max_depth': 6}\n",
      "\n",
      "BEST Banknote   train acc 100.0%, test acc 100.0%\n",
      "params {'n_estimators': 50, 'learning_rate': 0.9, 'subsample': 0.9, 'max_depth': 4}\n",
      "\n",
      "BEST Spambase   train acc 99.7%, test acc 95.3%\n",
      "params {'n_estimators': 50, 'learning_rate': 0.5, 'subsample': 0.5, 'max_depth': 8}\n",
      "\n",
      "BEST Credit     train acc 80.1%, test acc 77.7%\n",
      "params {'n_estimators': 50, 'learning_rate': 0.2, 'subsample': 0.9, 'max_depth': 4}\n",
      "\n",
      "BEST California train acc 97.1%, test acc 90.9%\n",
      "params {'n_estimators': 100, 'learning_rate': 0.2, 'subsample': 0.9, 'max_depth': 6}\n",
      "\n",
      "BEST Mnist[2v4] train acc 100.0%, test acc 99.6%\n",
      "params {'n_estimators': 50, 'learning_rate': 0.5, 'subsample': 0.9, 'max_depth': 8}\n",
      "\n",
      "BEST Ijcnn1     train acc 100.0%, test acc 99.3%\n",
      "params {'n_estimators': 100, 'learning_rate': 0.5, 'subsample': 0.9, 'max_depth': 8}\n",
      "\n"
     ]
    }
   ],
   "source": [
    "best_models = {}\n",
    "for dname in dnames:\n",
    "    d = prada.get_dataset(dname, nfolds=5, silent=True, seed=12)\n",
    "    d.load_dataset()\n",
    "    d.robust_normalize()\n",
    "    d.astype(np.float64)\n",
    "\n",
    "    dtrain, dtest = d.train_and_test_fold(0)\n",
    "    dtrain, dvalid = dtrain.train_and_test_fold(0)\n",
    "    \n",
    "    # `model_class` can be any sklearn compatible classifier.\n",
    "    # There is built-in support for\n",
    "    #   - rf:  sklearn RandomForest\n",
    "    #   - xgb: xgboost\n",
    "    #   - lgb: lightgbm\n",
    "    model_type = \"xgb\" # or \"rf\", \"lgb\"\n",
    "    model_class = d.get_model_class(model_type)\n",
    "\n",
    "    models = []\n",
    "    for i, params in enumerate(d.paramgrid(**param_dict)):\n",
    "        clf, train_time = dtrain.train(xgb.XGBClassifier, params)\n",
    "    \n",
    "        mtrain = dtrain.metric(clf)\n",
    "        mtest  = dtest.metric(clf)\n",
    "        mvalid = dvalid.metric(clf)\n",
    "\n",
    "        models.append((d, clf, mtrain, mtest, mvalid, params))\n",
    "\n",
    "    d, clf, mtrain, mtest, mvalid, params = max(models, key=lambda m: m[3])\n",
    "\n",
    "    best_models[dname] = (d, clf, mtrain, mtest, mvalid, params)\n",
    "    print(f\"BEST {dname:10s} train acc {mtrain*100:.1f}%, test acc {mtest*100:.1f}%\")\n",
    "    print(\"params\", params)\n",
    "    print()"
   ]
  },
  {
   "cell_type": "markdown",
   "id": "7e6bc1a0-8e93-46ce-88f0-90913aea97bd",
   "metadata": {},
   "source": [
    "## Compress the models using `tree_compress`"
   ]
  },
  {
   "cell_type": "code",
   "execution_count": 10,
   "id": "56e6dc5b-6df3-4866-bec5-c25fbdb4236b",
   "metadata": {
    "collapsed": true,
    "jupyter": {
     "outputs_hidden": true
    }
   },
   "outputs": [
    {
     "name": "stdout",
     "output_type": "stream",
     "text": [
      "\n",
      "| XGBOOST's base_score\n",
      "|   base_score diff std      6.767112221160852e-07 OK\n",
      "|   base_score reported      0.69284296\n",
      "|   versus manually detected 0.8134442277854178\n",
      "|   abs err                  0.1206012677854178\n",
      "|   rel err                  0.1740672486380143\n",
      "|   (!) base_score NOT THE SAME with relative tolerance 0.001\n",
      "\n",
      "Phoneme    number of non-zero leaves: 2928 -> 109, test accuracy: 90.6% -> 88.3%\n",
      "\n",
      "| XGBOOST's base_score\n",
      "|   base_score diff std      1.9268317155183637e-06 OK\n",
      "|   base_score reported      0.57230514\n",
      "|   versus manually detected 0.29126331543026024\n",
      "|   abs err                  0.28104182456973975\n",
      "|   rel err                  0.4910698942346381\n",
      "|   (!) base_score NOT THE SAME with relative tolerance 0.0005\n",
      "\n",
      "Banknote   number of non-zero leaves: 161 -> 9, test accuracy: 100.0% -> 96.7%\n",
      "\n",
      "| XGBOOST's base_score\n",
      "|   base_score diff std      3.5518757340256144e-07 OK\n",
      "|   base_score reported      0.39492488\n",
      "|   versus manually detected -0.4266570159118273\n",
      "|   abs err                  0.8215818959118273\n",
      "|   rel err                  2.0803498019973503\n",
      "|   (!) base_score NOT THE SAME with relative tolerance 0.0005\n",
      "\n",
      "Spambase   number of non-zero leaves: 946 -> 10, test accuracy: 95.3% -> 92.3%\n",
      "\n",
      "| XGBOOST's base_score\n",
      "|   base_score diff std      3.015671980909628e-07 OK\n",
      "|   base_score reported      0.5021438\n",
      "|   versus manually detected 0.008575328165619794\n",
      "|   abs err                  0.49356847183438024\n",
      "|   rel err                  0.9829225648795827\n",
      "|   (!) base_score NOT THE SAME with relative tolerance 0.0005\n",
      "\n",
      "Credit     number of non-zero leaves: 722 -> 25, test accuracy: 77.7% -> 76.3%\n",
      "\n",
      "| XGBOOST's base_score\n",
      "|   base_score diff std      8.350032853860923e-07 OK\n",
      "|   base_score reported      0.5027865\n",
      "|   versus manually detected 0.011145868869836135\n",
      "|   abs err                  0.4916406311301639\n",
      "|   rel err                  0.9778318056076761\n",
      "|   (!) base_score NOT THE SAME with relative tolerance 0.001\n",
      "\n",
      "California number of non-zero leaves: 4179 -> 94, test accuracy: 90.9% -> 87.5%\n",
      "\n",
      "| XGBOOST's base_score\n",
      "|   base_score diff std      3.80317099314416e-07 OK\n",
      "|   base_score reported      0.50319695\n",
      "|   versus manually detected 0.012787602575554047\n",
      "|   abs err                  0.4904093474244459\n",
      "|   rel err                  0.9745872812314262\n",
      "|   (!) base_score NOT THE SAME with relative tolerance 0.0005\n",
      "\n",
      "Mnist[2v4] number of non-zero leaves: 727 -> 10, test accuracy: 99.6% -> 97.5%\n",
      "\n",
      "| XGBOOST's base_score\n",
      "|   base_score diff std      1.9594679529922744e-06 OK\n",
      "|   base_score reported      0.16579995\n",
      "|   versus manually detected -1.6156906390109906\n",
      "|   abs err                  1.7814905890109907\n",
      "|   rel err                  10.7448198205789\n",
      "|   (!) base_score NOT THE SAME with relative tolerance 0.001\n",
      "\n",
      "Ijcnn1     number of non-zero leaves: 6370 -> 70, test accuracy: 99.3% -> 97.2%\n"
     ]
    }
   ],
   "source": [
    "compressed_models = {}\n",
    "for dname, (d, clf, mtrain, mtest, mvalid, params) in best_models.items():\n",
    "    dtrain, dtest = d.train_and_test_fold(0)\n",
    "    dtrain, dvalid = dtrain.train_and_test_fold(0)\n",
    "    data = tree_compress.Data(\n",
    "        dtrain.X.to_numpy(), dtrain.y.to_numpy(),\n",
    "        dtest.X.to_numpy(), dtest.y.to_numpy(),\n",
    "        dvalid.X.to_numpy(), dvalid.y.to_numpy()\n",
    "    )\n",
    "    \n",
    "    compressed_models[dname] = tree_compress.compress_topdown(\n",
    "        data, clf, relerr=0.02, silent=True, max_rounds=2,\n",
    "        return_compress_object=True\n",
    "    )\n",
    "\n",
    "    before = compressed_models[dname].records[0]\n",
    "    after = compressed_models[dname].records[-1]\n",
    "    print(f\"{dname:10s} number of non-zero leaves: {before.nnz_leafs} -> {after.nnz_leafs},\",\n",
    "          f\"test accuracy: {before.mtest*100:.1f}% -> {after.mtest*100:.1f}%\")"
   ]
  },
  {
   "cell_type": "markdown",
   "id": "a5b63a5d-872d-4e1d-a9db-446611689068",
   "metadata": {},
   "source": [
    "## Plot the results\n",
    "\n",
    "An open issue: ijcnn1 is an imbalanced dataset. The drop of 2% of accuracy is more severe for ijcnn1 than for the other datasets.\n",
    "We should be able to configure:\n",
    "\n",
    "- custom metric to choose alpha\n",
    "- use class weights in linear classifier\n",
    "\n",
    "We could, of course, also use a lower `relerr` for ijcnn1, but we are using the same value for all datasets here."
   ]
  },
  {
   "cell_type": "code",
   "execution_count": 20,
   "id": "05d08a3a-8217-4c0e-9e54-3a9387d0a293",
   "metadata": {
    "jupyter": {
     "source_hidden": true
    }
   },
   "outputs": [
    {
     "data": {
      "image/png": "[encoded data removed]",
      "text/plain": [
       "<Figure size 1000x1000 with 3 Axes>"
      ]
     },
     "metadata": {},
     "output_type": "display_data"
    }
   ],
   "source": [
    "fig, axs = plt.subplots(3, 1, figsize=(10, 10))\n",
    "\n",
    "axs[0].set_prop_cycle(color=['black'])\n",
    "for k in [1, 2]:\n",
    "    axs[k].set_prop_cycle(color=['red', 'green', 'blue'])\n",
    "\n",
    "#for k, (dname, c) in enumerate(compressed_models.items()):\n",
    "for k, dname, c, (d, clf, mtrain, mtest, mvalid, params) in zip(range(len(compressed_models)), compressed_models.keys(), compressed_models.values(), best_models.values()):\n",
    "    before = c.records[0]\n",
    "    after = c.records[-1]\n",
    "\n",
    "    i = k-0.15\n",
    "    j = k+0.15\n",
    "    \n",
    "    lk, = axs[0].plot(k, before.ntrees, \".\")\n",
    "    axs[0].plot(k, after.ntrees, \"v\", color=lk.get_color())\n",
    "    axs[0].plot([k, k], [before.ntrees, after.ntrees],\n",
    "                color=lk.get_color())\n",
    "    \n",
    "    li, = axs[1].plot(i, before.nnodes, \".\")\n",
    "    axs[1].plot(i, after.nnodes, \"v\", color=li.get_color())\n",
    "    axs[1].plot([i, i], [before.nnodes, after.nnodes], \"-\",\n",
    "                color=li.get_color())\n",
    "    \n",
    "    lk, = axs[1].plot(k, before.nleafs, \".\")\n",
    "    axs[1].plot(k, after.nleafs, \"v\", color=lk.get_color())\n",
    "    axs[1].plot([k, k], [before.nleafs, after.nleafs], \"--\",\n",
    "                color=lk.get_color())\n",
    "\n",
    "    lj, = axs[1].plot(j, before.nnz_leafs, \".\")\n",
    "    axs[1].plot(j, after.nnz_leafs, \"v\", color=lj.get_color())\n",
    "    axs[1].plot([j, j], [before.nnz_leafs, after.nnz_leafs], \"-.\",\n",
    "                color=lj.get_color())\n",
    "    \n",
    "    li, = axs[2].plot(i, before.mtrain, \".\")\n",
    "    axs[2].plot(i, after.mtrain, \"v\", color=li.get_color())\n",
    "    axs[2].plot([i, i], [before.mtrain, after.mtrain], \"-\",\n",
    "                color=li.get_color())\n",
    "    \n",
    "    lk, = axs[2].plot(k, before.mvalid, \".\")\n",
    "    axs[2].plot(k, after.mvalid, \"v\", color=lk.get_color())\n",
    "    axs[2].plot([k, k], [before.mvalid, after.mvalid], \"--\",\n",
    "                color=lk.get_color())\n",
    "\n",
    "    lj, = axs[2].plot(j, before.mtest, \".\")\n",
    "    axs[2].plot(j, after.mtest, \"v\", color=lj.get_color())\n",
    "    axs[2].plot([j, j], [before.mtest, after.mtest], \"-.\",\n",
    "                color=lj.get_color())\n",
    "\n",
    "    class_balance = d.y.mean()\n",
    "    class_balance = max(1-class_balance, class_balance)\n",
    "    axs[2].plot([i, j], [class_balance, class_balance], \"-\", c=\"gray\")\n",
    "\n",
    "for k in [0, 1, 2]:\n",
    "    axs[k].set_xticks(range(len(compressed_models)))\n",
    "    axs[k].set_xticklabels(list(compressed_models.keys()))\n",
    "    axs[k].grid(visible=True, axis=\"y\", ls=\":\", color=\"gray\", which=\"major\")\n",
    "    axs[k].grid(visible=True, axis=\"y\", ls=\":\", color=\"lightgray\", which=\"minor\")\n",
    "\n",
    "fig.legend([\n",
    "                Line2D([0], [0], c=\"black\", ls=\"\", marker=\".\"),\n",
    "                Line2D([0], [0], c=\"black\", ls=\"\", marker=\"v\")\n",
    "           ], [\n",
    "                \"before (uncompressed)\",\n",
    "                \"after (compressed)\"\n",
    "           ], loc=\"upper center\", ncols=2)\n",
    "\n",
    "axs[1].legend([\n",
    "                Line2D([0], [0], c=\"red\", ls=\"-\"),\n",
    "                Line2D([0], [0], c=\"green\", ls=\"--\"),\n",
    "                Line2D([0], [0], c=\"blue\", ls=\"-.\"),\n",
    "           ], [\n",
    "                \"num. nodes\",\n",
    "                \"num. leaves\",\n",
    "                \"num. non-zero leaves\",\n",
    "           ])\n",
    "\n",
    "axs[2].legend([\n",
    "                Line2D([0], [0], c=\"red\", ls=\"-\"),\n",
    "                Line2D([0], [0], c=\"green\", ls=\"--\"),\n",
    "                Line2D([0], [0], c=\"blue\", ls=\"-.\"),\n",
    "                Line2D([0], [0], c=\"gray\", ls=\"-\"),\n",
    "           ], [\n",
    "                \"train\",\n",
    "                \"validation\",\n",
    "                \"test\",\n",
    "                \"class balance\",\n",
    "           ])\n",
    "\n",
    "axs[0].set_title(\"number of trees in ensemble\")\n",
    "axs[1].set_title(\"number of nodes, leaves, and non-zero leaves\")\n",
    "axs[2].set_title(\"model accuracies on training, validation and test sets\")\n",
    "\n",
    "axs[1].set_yscale(\"log\")\n",
    "axs[0].yaxis.set_minor_locator(MultipleLocator(5))\n",
    "axs[2].yaxis.set_minor_locator(MultipleLocator(0.02))\n",
    "\n",
    "fig.subplots_adjust(top=0.94, hspace=0.3)\n",
    "\n",
    "plt.show()"
   ]
  },
  {
   "cell_type": "code",
   "execution_count": 21,
   "id": "a104d4c2-f416-4d3c-9cf1-c21a36479e22",
   "metadata": {
    "jupyter": {
     "source_hidden": true
    }
   },
   "outputs": [
    {
     "data": {
      "text/html": [
       "<div>\n",
       "<style scoped>\n",
       "    .dataframe tbody tr th:only-of-type {\n",
       "        vertical-align: middle;\n",
       "    }\n",
       "\n",
       "    .dataframe tbody tr th {\n",
       "        vertical-align: top;\n",
       "    }\n",
       "\n",
       "    .dataframe thead th {\n",
       "        text-align: right;\n",
       "    }\n",
       "</style>\n",
       "<table border=\"1\" class=\"dataframe\">\n",
       "  <thead>\n",
       "    <tr style=\"text-align: right;\">\n",
       "      <th></th>\n",
       "      <th></th>\n",
       "      <th>train</th>\n",
       "      <th>validation</th>\n",
       "      <th>test</th>\n",
       "      <th>ntrees</th>\n",
       "      <th>nnodes</th>\n",
       "      <th>nleaves</th>\n",
       "      <th>nnz_leaves</th>\n",
       "    </tr>\n",
       "  </thead>\n",
       "  <tbody>\n",
       "    <tr>\n",
       "      <th rowspan=\"2\" valign=\"top\">Phoneme</th>\n",
       "      <th>before</th>\n",
       "      <td>99.2</td>\n",
       "      <td>90.1</td>\n",
       "      <td>90.6</td>\n",
       "      <td>100</td>\n",
       "      <td>5756</td>\n",
       "      <td>2928</td>\n",
       "      <td>2928</td>\n",
       "    </tr>\n",
       "    <tr>\n",
       "      <th>after</th>\n",
       "      <td>91.6</td>\n",
       "      <td>88.3</td>\n",
       "      <td>88.3</td>\n",
       "      <td>16</td>\n",
       "      <td>366</td>\n",
       "      <td>191</td>\n",
       "      <td>109</td>\n",
       "    </tr>\n",
       "    <tr>\n",
       "      <th rowspan=\"2\" valign=\"top\">Banknote</th>\n",
       "      <th>before</th>\n",
       "      <td>100.0</td>\n",
       "      <td>99.3</td>\n",
       "      <td>100.0</td>\n",
       "      <td>50</td>\n",
       "      <td>272</td>\n",
       "      <td>161</td>\n",
       "      <td>161</td>\n",
       "    </tr>\n",
       "    <tr>\n",
       "      <th>after</th>\n",
       "      <td>99.4</td>\n",
       "      <td>97.4</td>\n",
       "      <td>96.7</td>\n",
       "      <td>3</td>\n",
       "      <td>27</td>\n",
       "      <td>15</td>\n",
       "      <td>9</td>\n",
       "    </tr>\n",
       "    <tr>\n",
       "      <th rowspan=\"2\" valign=\"top\">Spambase</th>\n",
       "      <th>before</th>\n",
       "      <td>99.7</td>\n",
       "      <td>94.2</td>\n",
       "      <td>95.3</td>\n",
       "      <td>50</td>\n",
       "      <td>1842</td>\n",
       "      <td>946</td>\n",
       "      <td>946</td>\n",
       "    </tr>\n",
       "    <tr>\n",
       "      <th>after</th>\n",
       "      <td>92.9</td>\n",
       "      <td>92.4</td>\n",
       "      <td>92.3</td>\n",
       "      <td>4</td>\n",
       "      <td>66</td>\n",
       "      <td>35</td>\n",
       "      <td>10</td>\n",
       "    </tr>\n",
       "    <tr>\n",
       "      <th rowspan=\"2\" valign=\"top\">Credit</th>\n",
       "      <th>before</th>\n",
       "      <td>80.1</td>\n",
       "      <td>77.4</td>\n",
       "      <td>77.7</td>\n",
       "      <td>50</td>\n",
       "      <td>1394</td>\n",
       "      <td>722</td>\n",
       "      <td>722</td>\n",
       "    </tr>\n",
       "    <tr>\n",
       "      <th>after</th>\n",
       "      <td>76.9</td>\n",
       "      <td>76.9</td>\n",
       "      <td>76.3</td>\n",
       "      <td>6</td>\n",
       "      <td>60</td>\n",
       "      <td>33</td>\n",
       "      <td>25</td>\n",
       "    </tr>\n",
       "    <tr>\n",
       "      <th rowspan=\"2\" valign=\"top\">California</th>\n",
       "      <th>before</th>\n",
       "      <td>97.1</td>\n",
       "      <td>89.6</td>\n",
       "      <td>90.9</td>\n",
       "      <td>100</td>\n",
       "      <td>8262</td>\n",
       "      <td>4181</td>\n",
       "      <td>4179</td>\n",
       "    </tr>\n",
       "    <tr>\n",
       "      <th>after</th>\n",
       "      <td>89.4</td>\n",
       "      <td>87.8</td>\n",
       "      <td>87.5</td>\n",
       "      <td>12</td>\n",
       "      <td>378</td>\n",
       "      <td>195</td>\n",
       "      <td>94</td>\n",
       "    </tr>\n",
       "    <tr>\n",
       "      <th rowspan=\"2\" valign=\"top\">Mnist[2v4]</th>\n",
       "      <th>before</th>\n",
       "      <td>100.0</td>\n",
       "      <td>99.3</td>\n",
       "      <td>99.6</td>\n",
       "      <td>50</td>\n",
       "      <td>1404</td>\n",
       "      <td>727</td>\n",
       "      <td>727</td>\n",
       "    </tr>\n",
       "    <tr>\n",
       "      <th>after</th>\n",
       "      <td>98.2</td>\n",
       "      <td>97.4</td>\n",
       "      <td>97.5</td>\n",
       "      <td>2</td>\n",
       "      <td>98</td>\n",
       "      <td>50</td>\n",
       "      <td>10</td>\n",
       "    </tr>\n",
       "    <tr>\n",
       "      <th rowspan=\"2\" valign=\"top\">Ijcnn1</th>\n",
       "      <th>before</th>\n",
       "      <td>100.0</td>\n",
       "      <td>99.3</td>\n",
       "      <td>99.3</td>\n",
       "      <td>100</td>\n",
       "      <td>12640</td>\n",
       "      <td>6370</td>\n",
       "      <td>6370</td>\n",
       "    </tr>\n",
       "    <tr>\n",
       "      <th>after</th>\n",
       "      <td>97.4</td>\n",
       "      <td>97.3</td>\n",
       "      <td>97.2</td>\n",
       "      <td>2</td>\n",
       "      <td>262</td>\n",
       "      <td>132</td>\n",
       "      <td>70</td>\n",
       "    </tr>\n",
       "  </tbody>\n",
       "</table>\n",
       "</div>"
      ],
      "text/plain": [
       "                   train validation   test ntrees nnodes nleaves nnz_leaves\n",
       "Phoneme    before   99.2       90.1   90.6    100   5756    2928       2928\n",
       "           after    91.6       88.3   88.3     16    366     191        109\n",
       "Banknote   before  100.0       99.3  100.0     50    272     161        161\n",
       "           after    99.4       97.4   96.7      3     27      15          9\n",
       "Spambase   before   99.7       94.2   95.3     50   1842     946        946\n",
       "           after    92.9       92.4   92.3      4     66      35         10\n",
       "Credit     before   80.1       77.4   77.7     50   1394     722        722\n",
       "           after    76.9       76.9   76.3      6     60      33         25\n",
       "California before   97.1       89.6   90.9    100   8262    4181       4179\n",
       "           after    89.4       87.8   87.5     12    378     195         94\n",
       "Mnist[2v4] before  100.0       99.3   99.6     50   1404     727        727\n",
       "           after    98.2       97.4   97.5      2     98      50         10\n",
       "Ijcnn1     before  100.0       99.3   99.3    100  12640    6370       6370\n",
       "           after    97.4       97.3   97.2      2    262     132         70"
      ]
     },
     "metadata": {},
     "output_type": "display_data"
    }
   ],
   "source": [
    "# Tabulate\n",
    "dnames = list(compressed_models.keys())\n",
    "index_acc = pd.MultiIndex.from_product((dnames, [\"before\", \"after\"]))\n",
    "df = pd.DataFrame(\"-\", columns=[\"train\", \"validation\", \"test\", \"ntrees\", \"nnodes\", \"nleaves\", \"nnz_leaves\"], index=index_acc)\n",
    "\n",
    "for k, (dname, c) in enumerate(compressed_models.items()):\n",
    "    before = c.records[0]\n",
    "    after = c.records[-1]\n",
    "\n",
    "    rbefore = df.loc[(dname, \"before\"), :]\n",
    "    rafter = df.loc[(dname, \"after\"), :]\n",
    "\n",
    "    rbefore[\"train\"] = np.round(before.mtrain*100, 1)\n",
    "    rafter[\"train\"] = np.round(after.mtrain*100, 1)\n",
    "    rbefore[\"validation\"] = np.round(before.mvalid*100, 1)\n",
    "    rafter[\"validation\"] = np.round(after.mvalid*100, 1)\n",
    "    rbefore[\"test\"] = np.round(before.mtest*100, 1)\n",
    "    rafter[\"test\"] = np.round(after.mtest*100, 1)\n",
    "\n",
    "    rbefore[\"ntrees\"] = before.ntrees\n",
    "    rafter[ \"ntrees\"] = after.ntrees\n",
    "    rbefore[\"nnodes\"] = before.nnodes\n",
    "    rafter[ \"nnodes\"] = after.nnodes\n",
    "    rbefore[\"nleaves\"] = before.nleafs\n",
    "    rafter[ \"nleaves\"] = after.nleafs\n",
    "    rbefore[\"nnz_leaves\"] = before.nnz_leafs\n",
    "    rafter[ \"nnz_leaves\"] = after.nnz_leafs\n",
    "\n",
    "display(df)"
   ]
  },
  {
   "cell_type": "markdown",
   "id": "21ee4e42-5a75-4ed7-bbf3-4cb49326e804",
   "metadata": {},
   "source": [
    "## Verifiability: how many OCs?\n",
    "\n",
    "If we can enumerate all the OCs in 60 seconds, then we consider the models tractably verifiable."
   ]
  },
  {
   "cell_type": "code",
   "execution_count": 13,
   "id": "2c352d88-c5f3-4df5-8ceb-dc010c00fc62",
   "metadata": {},
   "outputs": [
    {
     "data": {
      "text/html": [
       "<b>Phoneme<b>"
      ],
      "text/plain": [
       "<IPython.core.display.HTML object>"
      ]
     },
     "metadata": {},
     "output_type": "display_data"
    },
    {
     "name": "stdout",
     "output_type": "stream",
     "text": [
      "Number of OCs 201239\n",
      "Number of unexplored open states (should be 0) 0\n"
     ]
    },
    {
     "data": {
      "text/html": [
       "<b>Banknote<b>"
      ],
      "text/plain": [
       "<IPython.core.display.HTML object>"
      ]
     },
     "metadata": {},
     "output_type": "display_data"
    },
    {
     "name": "stdout",
     "output_type": "stream",
     "text": [
      "Number of OCs 37\n",
      "Number of unexplored open states (should be 0) 0\n"
     ]
    },
    {
     "data": {
      "text/html": [
       "<b>Spambase<b>"
      ],
      "text/plain": [
       "<IPython.core.display.HTML object>"
      ]
     },
     "metadata": {},
     "output_type": "display_data"
    },
    {
     "name": "stdout",
     "output_type": "stream",
     "text": [
      "Number of OCs 3259\n",
      "Number of unexplored open states (should be 0) 0\n"
     ]
    },
    {
     "data": {
      "text/html": [
       "<b>Credit<b>"
      ],
      "text/plain": [
       "<IPython.core.display.HTML object>"
      ]
     },
     "metadata": {},
     "output_type": "display_data"
    },
    {
     "name": "stdout",
     "output_type": "stream",
     "text": [
      "Number of OCs 194\n",
      "Number of unexplored open states (should be 0) 0\n"
     ]
    },
    {
     "data": {
      "text/html": [
       "<b>California<b>"
      ],
      "text/plain": [
       "<IPython.core.display.HTML object>"
      ]
     },
     "metadata": {},
     "output_type": "display_data"
    },
    {
     "name": "stdout",
     "output_type": "stream",
     "text": [
      "Number of OCs 129696\n",
      "Number of unexplored open states (should be 0) 0\n"
     ]
    },
    {
     "data": {
      "text/html": [
       "<b>Mnist[2v4]<b>"
      ],
      "text/plain": [
       "<IPython.core.display.HTML object>"
      ]
     },
     "metadata": {},
     "output_type": "display_data"
    },
    {
     "name": "stdout",
     "output_type": "stream",
     "text": [
      "Number of OCs 280\n",
      "Number of unexplored open states (should be 0) 0\n"
     ]
    },
    {
     "data": {
      "text/html": [
       "<b>Ijcnn1<b>"
      ],
      "text/plain": [
       "<IPython.core.display.HTML object>"
      ]
     },
     "metadata": {},
     "output_type": "display_data"
    },
    {
     "name": "stdout",
     "output_type": "stream",
     "text": [
      "Number of OCs 932\n",
      "Number of unexplored open states (should be 0) 0\n"
     ]
    }
   ],
   "source": [
    "for k, (dname, c) in enumerate(compressed_models.items()):\n",
    "    before = c.records[0]\n",
    "    after = c.records[-1]\n",
    "\n",
    "    display(HTML(f\"<b>{dname}<b>\"))\n",
    "    at_pruned = after.at\n",
    "\n",
    "    config = veritas.Config(veritas.HeuristicType.MAX_OUTPUT)\n",
    "    config.stop_when_optimal = False\n",
    "    search = config.get_search(at_pruned)\n",
    "\n",
    "    while search.steps(1000) != veritas.StopReason.NO_MORE_OPEN \\\n",
    "            and search.time_since_start() < 60.0:\n",
    "        pass\n",
    "        #print(\"Veritas\", search.num_solutions(), search.num_open())\n",
    "    print(\"Number of OCs\", search.num_solutions())\n",
    "    print(\"Number of unexplored open states (should be 0)\", search.num_open())\n"
   ]
  },
  {
   "cell_type": "markdown",
   "id": "31c45249-5a37-4e38-9adb-6c85a014fd10",
   "metadata": {},
   "source": [
    "## Checking robustness on the test set\n",
    "\n",
    "We compute the adversarial accuracy on the original model, and on the pruned model.\n",
    "We ask the questions:\n",
    "\n",
    "- How much faster can we do this on the pruned dataset?\n",
    "- How does pruning affect the robustness of the models?"
   ]
  },
  {
   "cell_type": "code",
   "execution_count": 31,
   "id": "62b2a6d0-ce3f-48ea-88f4-58256d1801d0",
   "metadata": {},
   "outputs": [
    {
     "data": {
      "text/html": [
       "<b>Phoneme<b>"
      ],
      "text/plain": [
       "<IPython.core.display.HTML object>"
      ]
     },
     "metadata": {},
     "output_type": "display_data"
    },
    {
     "name": "stdout",
     "output_type": "stream",
     "text": [
      "TOTAL TIME before 1.4837s after 0.0481s (30.9x)\n",
      "ROBUSTNESS before nonrobust  432, incorrect  101, timeout    0 (1080) adv acc=50.6%\n",
      "            after nonrobust  315, incorrect  126, timeout    0 (1080) adv acc=59.2%\n"
     ]
    },
    {
     "data": {
      "text/html": [
       "<b>Banknote<b>"
      ],
      "text/plain": [
       "<IPython.core.display.HTML object>"
      ]
     },
     "metadata": {},
     "output_type": "display_data"
    },
    {
     "name": "stdout",
     "output_type": "stream",
     "text": [
      "TOTAL TIME before 0.0069s after 0.0028s (2.5x)\n",
      "ROBUSTNESS before nonrobust   11, incorrect    0, timeout    0 (274) adv acc=96.0%\n",
      "            after nonrobust   23, incorrect    9, timeout    0 (274) adv acc=88.3%\n"
     ]
    },
    {
     "data": {
      "text/html": [
       "<b>Spambase<b>"
      ],
      "text/plain": [
       "<IPython.core.display.HTML object>"
      ]
     },
     "metadata": {},
     "output_type": "display_data"
    },
    {
     "name": "stdout",
     "output_type": "stream",
     "text": [
      "TOTAL TIME before 0.7624s after 0.0174s (43.9x)\n",
      "ROBUSTNESS before nonrobust  460, incorrect   43, timeout    0 (920) adv acc=45.3%\n",
      "            after nonrobust  132, incorrect   71, timeout    0 (920) adv acc=77.9%\n"
     ]
    },
    {
     "data": {
      "text/html": [
       "<b>Credit<b>"
      ],
      "text/plain": [
       "<IPython.core.display.HTML object>"
      ]
     },
     "metadata": {},
     "output_type": "display_data"
    },
    {
     "name": "stdout",
     "output_type": "stream",
     "text": [
      "TOTAL TIME before 0.1445s after 0.0204s (7.1x)\n",
      "ROBUSTNESS before nonrobust  347, incorrect  452, timeout    0 (2000) adv acc=60.1%\n",
      "            after nonrobust  138, incorrect  479, timeout    0 (2000) adv acc=69.2%\n"
     ]
    },
    {
     "data": {
      "text/html": [
       "<b>California<b>"
      ],
      "text/plain": [
       "<IPython.core.display.HTML object>"
      ]
     },
     "metadata": {},
     "output_type": "display_data"
    },
    {
     "name": "stdout",
     "output_type": "stream",
     "text": [
      "TOTAL TIME before 6.4317s after 0.0841s (76.5x)\n",
      "ROBUSTNESS before nonrobust  993, incorrect  182, timeout    0 (2000) adv acc=41.2%\n",
      "            after nonrobust  612, incorrect  246, timeout    0 (2000) adv acc=57.1%\n"
     ]
    },
    {
     "data": {
      "text/html": [
       "<b>Mnist[2v4]<b>"
      ],
      "text/plain": [
       "<IPython.core.display.HTML object>"
      ]
     },
     "metadata": {},
     "output_type": "display_data"
    },
    {
     "name": "stdout",
     "output_type": "stream",
     "text": [
      "TOTAL TIME before 9.0063s after 0.1508s (59.7x)\n",
      "ROBUSTNESS before nonrobust  731, incorrect    7, timeout    0 (2000) adv acc=63.1%\n",
      "            after nonrobust 1073, incorrect   49, timeout    0 (2000) adv acc=43.9%\n"
     ]
    },
    {
     "data": {
      "text/html": [
       "<b>Ijcnn1<b>"
      ],
      "text/plain": [
       "<IPython.core.display.HTML object>"
      ]
     },
     "metadata": {},
     "output_type": "display_data"
    },
    {
     "name": "stdout",
     "output_type": "stream",
     "text": [
      "TOTAL TIME before 4.5059s after 0.0716s (62.9x)\n",
      "ROBUSTNESS before nonrobust  193, incorrect   14, timeout    0 (2000) adv acc=89.6%\n",
      "            after nonrobust  107, incorrect   53, timeout    0 (2000) adv acc=92.0%\n"
     ]
    }
   ],
   "source": [
    "delta = 0.05\n",
    "robustness = {}\n",
    "\n",
    "for dname, c, (d, clf, mtrain, mtest, mvalid, params) in zip(compressed_models.keys(), compressed_models.values(), best_models.values()):\n",
    "    dtrain, dtest = d.train_and_test_fold(0)\n",
    "    dtrain, dvalid = dtrain.train_and_test_fold(0)\n",
    "    before = c.records[0]\n",
    "    after = c.records[-1]\n",
    "\n",
    "    #print()\n",
    "    #veritas.test_conversion(before.at, dtest.X.to_numpy(), clf.predict_proba(dtest.X)[:,1])\n",
    "\n",
    "    display(HTML(f\"<b>{dname}<b>\"))\n",
    "\n",
    "    total_time = [0.0, 0.0]\n",
    "    count = [0, 0]\n",
    "    count_wrong = [0, 0]\n",
    "    count_nonrobust = [0, 0]\n",
    "    count_to = [0, 0]\n",
    "\n",
    "    for i in range(min(2000, dtest.X.shape[0])):\n",
    "        example = dtest.X.iloc[i, :].to_numpy()\n",
    "        true_label = int(dtest.y.iloc[i])\n",
    "        prune_box = [veritas.Interval(x-delta, x+delta) for x in example]\n",
    "\n",
    "        for k, at in enumerate([before.at, after.at]):\n",
    "            count[k] += 1\n",
    "            pred_label = int(at.predict(example)[0][0] >= .5)\n",
    "    \n",
    "            if true_label != pred_label:\n",
    "                count_wrong[k] += 1\n",
    "                continue\n",
    "    \n",
    "            heur = veritas.HeuristicType.MIN_OUTPUT if pred_label \\\n",
    "                   else veritas.HeuristicType.MAX_OUTPUT\n",
    "    \n",
    "            config = veritas.Config(heur)\n",
    "            config.ignore_state_when_worse_than = 0.0\n",
    "            search = config.get_search(at, prune_box)\n",
    "    \n",
    "            stop_reason = veritas.StopReason.NONE\n",
    "        \n",
    "            while search.num_solutions() == 0 \\\n",
    "                    and stop_reason == veritas.StopReason.NONE \\\n",
    "                    and search.time_since_start() < 5.0:\n",
    "                stop_reason = search.steps(1000)\n",
    "    \n",
    "            total_time[k] += search.time_since_start()\n",
    "    \n",
    "            raw_pred = 0.0\n",
    "            if search.num_solutions() > 0:\n",
    "                adv_example = veritas.get_closest_example(search.get_solution(0), example, 1e-4)\n",
    "                wrong_label = int(at.predict(adv_example)[0][0] >= .5)\n",
    "                #data = np.vstack([example.reshape(1, -1), adv_example.reshape(1, -1)])\n",
    "                #raw_pred_example, raw_pred_adv = at.eval(data)[:, 0]\n",
    "                assert wrong_label != pred_label\n",
    "                count_nonrobust[k] += 1\n",
    "            if search.time_since_start() >= 5.0:\n",
    "                count_to[k] += 1\n",
    "        \n",
    "        #print(i, f\"lab={label}, adv={wrong_label} {raw_pred:5.3f}\", search.num_solutions())\n",
    "    print(f\"TOTAL TIME before {total_time[0]:.4f}s after {total_time[1]:.4f}s\",\n",
    "          f\"({total_time[0]/total_time[1]:.1f}x)\")\n",
    "    print(f\"ROBUSTNESS before nonrobust {count_nonrobust[0]:4d}, incorrect {count_wrong[0]:4d}, timeout {count_to[0]:4d} ({count[0]})\",\n",
    "          f\"adv acc={100*(1.0-(count_nonrobust[0]+count_wrong[0])/(count[0])):.1f}%\")\n",
    "    print(f\"            after nonrobust {count_nonrobust[1]:4d}, incorrect {count_wrong[1]:4d}, timeout {count_to[1]:4d} ({count[1]})\",\n",
    "          f\"adv acc={100*(1.0-(count_nonrobust[1]+count_wrong[1])/(count[1])):.1f}%\")\n",
    "\n",
    "    robustness[dname] = [{\n",
    "        \"total_time\": total_time[k],\n",
    "        \"count_nonrobust\": count_nonrobust[k],\n",
    "        \"count_wrong\": count_wrong[k],\n",
    "        \"count_to\": count_to[k],\n",
    "        \"count\": count[k],\n",
    "    } for k in range(2)]"
   ]
  },
  {
   "cell_type": "code",
   "execution_count": 33,
   "id": "8643f72e-784f-4951-911b-09258c7026e5",
   "metadata": {
    "jupyter": {
     "source_hidden": true
    }
   },
   "outputs": [
    {
     "data": {
      "text/html": [
       "<div>\n",
       "<style scoped>\n",
       "    .dataframe tbody tr th:only-of-type {\n",
       "        vertical-align: middle;\n",
       "    }\n",
       "\n",
       "    .dataframe tbody tr th {\n",
       "        vertical-align: top;\n",
       "    }\n",
       "\n",
       "    .dataframe thead th {\n",
       "        text-align: right;\n",
       "    }\n",
       "</style>\n",
       "<table border=\"1\" class=\"dataframe\">\n",
       "  <thead>\n",
       "    <tr style=\"text-align: right;\">\n",
       "      <th></th>\n",
       "      <th></th>\n",
       "      <th>wrong</th>\n",
       "      <th>nonrobust</th>\n",
       "      <th>total</th>\n",
       "      <th>adv.acc</th>\n",
       "      <th>time</th>\n",
       "      <th>speedup</th>\n",
       "    </tr>\n",
       "  </thead>\n",
       "  <tbody>\n",
       "    <tr>\n",
       "      <th rowspan=\"2\" valign=\"top\">Phoneme</th>\n",
       "      <th>before</th>\n",
       "      <td>101</td>\n",
       "      <td>432</td>\n",
       "      <td>1080</td>\n",
       "      <td>50.6</td>\n",
       "      <td>1.48</td>\n",
       "      <td>-</td>\n",
       "    </tr>\n",
       "    <tr>\n",
       "      <th>after</th>\n",
       "      <td>126</td>\n",
       "      <td>315</td>\n",
       "      <td>1080</td>\n",
       "      <td>59.2</td>\n",
       "      <td>0.05</td>\n",
       "      <td>30.9</td>\n",
       "    </tr>\n",
       "    <tr>\n",
       "      <th rowspan=\"2\" valign=\"top\">Banknote</th>\n",
       "      <th>before</th>\n",
       "      <td>0</td>\n",
       "      <td>11</td>\n",
       "      <td>274</td>\n",
       "      <td>96.0</td>\n",
       "      <td>0.01</td>\n",
       "      <td>-</td>\n",
       "    </tr>\n",
       "    <tr>\n",
       "      <th>after</th>\n",
       "      <td>9</td>\n",
       "      <td>23</td>\n",
       "      <td>274</td>\n",
       "      <td>88.3</td>\n",
       "      <td>0.0</td>\n",
       "      <td>2.5</td>\n",
       "    </tr>\n",
       "    <tr>\n",
       "      <th rowspan=\"2\" valign=\"top\">Spambase</th>\n",
       "      <th>before</th>\n",
       "      <td>43</td>\n",
       "      <td>460</td>\n",
       "      <td>920</td>\n",
       "      <td>45.3</td>\n",
       "      <td>0.76</td>\n",
       "      <td>-</td>\n",
       "    </tr>\n",
       "    <tr>\n",
       "      <th>after</th>\n",
       "      <td>71</td>\n",
       "      <td>132</td>\n",
       "      <td>920</td>\n",
       "      <td>77.9</td>\n",
       "      <td>0.02</td>\n",
       "      <td>43.9</td>\n",
       "    </tr>\n",
       "    <tr>\n",
       "      <th rowspan=\"2\" valign=\"top\">Credit</th>\n",
       "      <th>before</th>\n",
       "      <td>452</td>\n",
       "      <td>347</td>\n",
       "      <td>2000</td>\n",
       "      <td>60.0</td>\n",
       "      <td>0.14</td>\n",
       "      <td>-</td>\n",
       "    </tr>\n",
       "    <tr>\n",
       "      <th>after</th>\n",
       "      <td>479</td>\n",
       "      <td>138</td>\n",
       "      <td>2000</td>\n",
       "      <td>69.2</td>\n",
       "      <td>0.02</td>\n",
       "      <td>7.1</td>\n",
       "    </tr>\n",
       "    <tr>\n",
       "      <th rowspan=\"2\" valign=\"top\">California</th>\n",
       "      <th>before</th>\n",
       "      <td>182</td>\n",
       "      <td>993</td>\n",
       "      <td>2000</td>\n",
       "      <td>41.2</td>\n",
       "      <td>6.43</td>\n",
       "      <td>-</td>\n",
       "    </tr>\n",
       "    <tr>\n",
       "      <th>after</th>\n",
       "      <td>246</td>\n",
       "      <td>612</td>\n",
       "      <td>2000</td>\n",
       "      <td>57.1</td>\n",
       "      <td>0.08</td>\n",
       "      <td>76.5</td>\n",
       "    </tr>\n",
       "    <tr>\n",
       "      <th rowspan=\"2\" valign=\"top\">Mnist[2v4]</th>\n",
       "      <th>before</th>\n",
       "      <td>7</td>\n",
       "      <td>731</td>\n",
       "      <td>2000</td>\n",
       "      <td>63.1</td>\n",
       "      <td>9.01</td>\n",
       "      <td>-</td>\n",
       "    </tr>\n",
       "    <tr>\n",
       "      <th>after</th>\n",
       "      <td>49</td>\n",
       "      <td>1073</td>\n",
       "      <td>2000</td>\n",
       "      <td>43.9</td>\n",
       "      <td>0.15</td>\n",
       "      <td>59.7</td>\n",
       "    </tr>\n",
       "    <tr>\n",
       "      <th rowspan=\"2\" valign=\"top\">Ijcnn1</th>\n",
       "      <th>before</th>\n",
       "      <td>14</td>\n",
       "      <td>193</td>\n",
       "      <td>2000</td>\n",
       "      <td>89.6</td>\n",
       "      <td>4.51</td>\n",
       "      <td>-</td>\n",
       "    </tr>\n",
       "    <tr>\n",
       "      <th>after</th>\n",
       "      <td>53</td>\n",
       "      <td>107</td>\n",
       "      <td>2000</td>\n",
       "      <td>92.0</td>\n",
       "      <td>0.07</td>\n",
       "      <td>62.9</td>\n",
       "    </tr>\n",
       "  </tbody>\n",
       "</table>\n",
       "</div>"
      ],
      "text/plain": [
       "                  wrong nonrobust total adv.acc  time speedup\n",
       "Phoneme    before   101       432  1080    50.6  1.48       -\n",
       "           after    126       315  1080    59.2  0.05    30.9\n",
       "Banknote   before     0        11   274    96.0  0.01       -\n",
       "           after      9        23   274    88.3   0.0     2.5\n",
       "Spambase   before    43       460   920    45.3  0.76       -\n",
       "           after     71       132   920    77.9  0.02    43.9\n",
       "Credit     before   452       347  2000    60.0  0.14       -\n",
       "           after    479       138  2000    69.2  0.02     7.1\n",
       "California before   182       993  2000    41.2  6.43       -\n",
       "           after    246       612  2000    57.1  0.08    76.5\n",
       "Mnist[2v4] before     7       731  2000    63.1  9.01       -\n",
       "           after     49      1073  2000    43.9  0.15    59.7\n",
       "Ijcnn1     before    14       193  2000    89.6  4.51       -\n",
       "           after     53       107  2000    92.0  0.07    62.9"
      ]
     },
     "metadata": {},
     "output_type": "display_data"
    }
   ],
   "source": [
    "# Tabulate\n",
    "dnames = list(compressed_models.keys())\n",
    "index_acc = pd.MultiIndex.from_product((dnames, [\"before\", \"after\"]))\n",
    "dfrob = pd.DataFrame(\"-\", columns=[\"wrong\", \"nonrobust\", \"total\", \"adv.acc\", \"time\", \"speedup\"], index=index_acc)\n",
    "\n",
    "for k, (dname, results) in enumerate(robustness.items()):\n",
    "    before = c.records[0]\n",
    "    after = c.records[-1]\n",
    "\n",
    "    for j, jj, res in zip(range(2), [\"before\", \"after\"], results):\n",
    "        r = dfrob.loc[(dname, jj), :]\n",
    "        rafter = dfrob.loc[(dname, \"after\"), :]\n",
    "\n",
    "        r[\"wrong\"] = res[\"count_wrong\"]\n",
    "        r[\"nonrobust\"] = res[\"count_nonrobust\"]\n",
    "        r[\"total\"] = res[\"count\"]\n",
    "        #r[\"timeout\"] = res[\"count_to\"]\n",
    "        r[\"adv.acc\"] = np.round(100.0 - 100*(res[\"count_wrong\"] + res[\"count_nonrobust\"]) / res[\"count\"], 1)\n",
    "        r[\"time\"] = np.round(res[\"total_time\"], 2)\n",
    "\n",
    "    dfrob.loc[(dname, \"after\"), \"speedup\"] = np.round(results[0][\"total_time\"] / results[1][\"total_time\"], 1)\n",
    "\n",
    "display(dfrob)"
   ]
  },
  {
   "cell_type": "code",
   "execution_count": null,
   "id": "91bea993-7aea-4e3b-85ad-eee537542ccb",
   "metadata": {},
   "outputs": [],
   "source": []
  }
 ],
 "metadata": {
  "kernelspec": {
   "display_name": "Python 3 (ipykernel)",
   "language": "python",
   "name": "python3"
  },
  "language_info": {
   "codemirror_mode": {
    "name": "ipython",
    "version": 3
   },
   "file_extension": ".py",
   "mimetype": "text/x-python",
   "name": "python",
   "nbconvert_exporter": "python",
   "pygments_lexer": "ipython3",
   "version": "3.11.6"
  }
 },
 "nbformat": 4,
 "nbformat_minor": 5
}
